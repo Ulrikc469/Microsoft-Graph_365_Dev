{
 "cells": [
  {
   "cell_type": "code",
   "source": [
    "import requests\n",
    "access_token = 'Bearer YOUR_ACCESS_TOKEN_HERE'\n",
    "url = 'https://graph.microsoft.com/v1.0/me'\n",
    "headers = {\n",
    "    'Authorization': access_token,\n",
    "    'Accept': 'application/json'\n",
    "}\n",
    "response = requests.get(url, headers=headers)\n",
    "if response.status_code == 200:\n",
    "    print('✅ Verbonden met Microsoft Graph')\n",
    "    print(response.json())\n",
    "else:\n",
    "    print(f'❌ Fout: {response.status_code}')\n",
    "    print(response.text)"
   ],
   "metadata": {},
   "execution_count": null,
   "outputs": []
  }
 ],
 "metadata": {
  "kernelspec": {
   "name": "python3",
   "language": "python",
   "display_name": "Python 3"
  },
  "language_info": {
   "name": "python",
   "version": "3.8"
  }
 },
 "nbformat": 4,
 "nbformat_minor": 2
}